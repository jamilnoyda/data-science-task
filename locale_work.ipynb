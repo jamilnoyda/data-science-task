{
 "cells": [
  {
   "cell_type": "code",
   "execution_count": 2,
   "metadata": {},
   "outputs": [],
   "source": [
    "import pandas as pd\n",
    "import numpy as np\n",
    "import matplotlib.pyplot as plt\n"
   ]
  },
  {
   "cell_type": "code",
   "execution_count": 3,
   "metadata": {},
   "outputs": [],
   "source": [
    "df = pd.read_csv(\"/home/jamil/jamil_code/bike-rental/data.csv\")"
   ]
  },
  {
   "cell_type": "code",
   "execution_count": 4,
   "metadata": {},
   "outputs": [
    {
     "name": "stdout",
     "output_type": "stream",
     "text": [
      "<class 'pandas.core.frame.DataFrame'>\n",
      "RangeIndex: 43431 entries, 0 to 43430\n",
      "Data columns (total 19 columns):\n",
      "id                     43431 non-null int64\n",
      "user_id                43431 non-null int64\n",
      "vehicle_model_id       43431 non-null int64\n",
      "package_id             7550 non-null float64\n",
      "travel_type_id         43431 non-null int64\n",
      "from_area_id           43343 non-null float64\n",
      "to_area_id             34293 non-null float64\n",
      "from_city_id           16345 non-null float64\n",
      "to_city_id             1588 non-null float64\n",
      "from_date              43431 non-null object\n",
      "to_date                25541 non-null object\n",
      "online_booking         43431 non-null int64\n",
      "mobile_site_booking    43431 non-null int64\n",
      "booking_created        43431 non-null object\n",
      "from_lat               43338 non-null float64\n",
      "from_long              43338 non-null float64\n",
      "to_lat                 34293 non-null float64\n",
      "to_long                34293 non-null float64\n",
      "Car_Cancellation       43431 non-null int64\n",
      "dtypes: float64(9), int64(7), object(3)\n",
      "memory usage: 6.3+ MB\n"
     ]
    }
   ],
   "source": [
    "df.info()"
   ]
  },
  {
   "cell_type": "code",
   "execution_count": 7,
   "metadata": {
    "scrolled": false
   },
   "outputs": [
    {
     "data": {
      "text/html": [
       "<div>\n",
       "<style scoped>\n",
       "    .dataframe tbody tr th:only-of-type {\n",
       "        vertical-align: middle;\n",
       "    }\n",
       "\n",
       "    .dataframe tbody tr th {\n",
       "        vertical-align: top;\n",
       "    }\n",
       "\n",
       "    .dataframe thead th {\n",
       "        text-align: right;\n",
       "    }\n",
       "</style>\n",
       "<table border=\"1\" class=\"dataframe\">\n",
       "  <thead>\n",
       "    <tr style=\"text-align: right;\">\n",
       "      <th></th>\n",
       "      <th>id</th>\n",
       "      <th>user_id</th>\n",
       "      <th>vehicle_model_id</th>\n",
       "      <th>package_id</th>\n",
       "      <th>travel_type_id</th>\n",
       "      <th>from_area_id</th>\n",
       "      <th>to_area_id</th>\n",
       "      <th>from_city_id</th>\n",
       "      <th>to_city_id</th>\n",
       "      <th>online_booking</th>\n",
       "      <th>mobile_site_booking</th>\n",
       "      <th>from_lat</th>\n",
       "      <th>from_long</th>\n",
       "      <th>to_lat</th>\n",
       "      <th>to_long</th>\n",
       "      <th>Car_Cancellation</th>\n",
       "    </tr>\n",
       "  </thead>\n",
       "  <tbody>\n",
       "    <tr>\n",
       "      <th>count</th>\n",
       "      <td>43431.000000</td>\n",
       "      <td>43431.000000</td>\n",
       "      <td>43431.00000</td>\n",
       "      <td>7550.000000</td>\n",
       "      <td>43431.000000</td>\n",
       "      <td>43343.000000</td>\n",
       "      <td>34293.000000</td>\n",
       "      <td>16345.000000</td>\n",
       "      <td>1588.000000</td>\n",
       "      <td>43431.000000</td>\n",
       "      <td>43431.000000</td>\n",
       "      <td>43338.000000</td>\n",
       "      <td>43338.000000</td>\n",
       "      <td>34293.000000</td>\n",
       "      <td>34293.000000</td>\n",
       "      <td>43431.000000</td>\n",
       "    </tr>\n",
       "    <tr>\n",
       "      <th>mean</th>\n",
       "      <td>159206.473556</td>\n",
       "      <td>30739.198153</td>\n",
       "      <td>25.71723</td>\n",
       "      <td>2.030066</td>\n",
       "      <td>2.137252</td>\n",
       "      <td>714.544494</td>\n",
       "      <td>669.490917</td>\n",
       "      <td>14.915081</td>\n",
       "      <td>68.537783</td>\n",
       "      <td>0.351592</td>\n",
       "      <td>0.043241</td>\n",
       "      <td>12.982461</td>\n",
       "      <td>77.636255</td>\n",
       "      <td>13.026648</td>\n",
       "      <td>77.640595</td>\n",
       "      <td>0.072114</td>\n",
       "    </tr>\n",
       "    <tr>\n",
       "      <th>std</th>\n",
       "      <td>15442.386279</td>\n",
       "      <td>10996.476709</td>\n",
       "      <td>26.79825</td>\n",
       "      <td>1.461756</td>\n",
       "      <td>0.437712</td>\n",
       "      <td>419.883553</td>\n",
       "      <td>400.638225</td>\n",
       "      <td>1.165306</td>\n",
       "      <td>49.880732</td>\n",
       "      <td>0.477473</td>\n",
       "      <td>0.203402</td>\n",
       "      <td>0.085933</td>\n",
       "      <td>0.059391</td>\n",
       "      <td>0.113487</td>\n",
       "      <td>0.064045</td>\n",
       "      <td>0.258680</td>\n",
       "    </tr>\n",
       "    <tr>\n",
       "      <th>min</th>\n",
       "      <td>132512.000000</td>\n",
       "      <td>16.000000</td>\n",
       "      <td>1.00000</td>\n",
       "      <td>1.000000</td>\n",
       "      <td>1.000000</td>\n",
       "      <td>2.000000</td>\n",
       "      <td>2.000000</td>\n",
       "      <td>1.000000</td>\n",
       "      <td>4.000000</td>\n",
       "      <td>0.000000</td>\n",
       "      <td>0.000000</td>\n",
       "      <td>12.776630</td>\n",
       "      <td>77.386930</td>\n",
       "      <td>12.776630</td>\n",
       "      <td>77.386930</td>\n",
       "      <td>0.000000</td>\n",
       "    </tr>\n",
       "    <tr>\n",
       "      <th>25%</th>\n",
       "      <td>145778.000000</td>\n",
       "      <td>24614.000000</td>\n",
       "      <td>12.00000</td>\n",
       "      <td>1.000000</td>\n",
       "      <td>2.000000</td>\n",
       "      <td>393.000000</td>\n",
       "      <td>393.000000</td>\n",
       "      <td>15.000000</td>\n",
       "      <td>32.000000</td>\n",
       "      <td>0.000000</td>\n",
       "      <td>0.000000</td>\n",
       "      <td>12.926450</td>\n",
       "      <td>77.593661</td>\n",
       "      <td>12.951850</td>\n",
       "      <td>77.582030</td>\n",
       "      <td>0.000000</td>\n",
       "    </tr>\n",
       "    <tr>\n",
       "      <th>50%</th>\n",
       "      <td>159248.000000</td>\n",
       "      <td>31627.000000</td>\n",
       "      <td>12.00000</td>\n",
       "      <td>2.000000</td>\n",
       "      <td>2.000000</td>\n",
       "      <td>590.000000</td>\n",
       "      <td>541.000000</td>\n",
       "      <td>15.000000</td>\n",
       "      <td>49.000000</td>\n",
       "      <td>0.000000</td>\n",
       "      <td>0.000000</td>\n",
       "      <td>12.968887</td>\n",
       "      <td>77.635750</td>\n",
       "      <td>12.982750</td>\n",
       "      <td>77.645030</td>\n",
       "      <td>0.000000</td>\n",
       "    </tr>\n",
       "    <tr>\n",
       "      <th>75%</th>\n",
       "      <td>172578.500000</td>\n",
       "      <td>39167.000000</td>\n",
       "      <td>24.00000</td>\n",
       "      <td>2.000000</td>\n",
       "      <td>2.000000</td>\n",
       "      <td>1089.000000</td>\n",
       "      <td>1054.000000</td>\n",
       "      <td>15.000000</td>\n",
       "      <td>108.000000</td>\n",
       "      <td>1.000000</td>\n",
       "      <td>0.000000</td>\n",
       "      <td>13.007750</td>\n",
       "      <td>77.688900</td>\n",
       "      <td>13.199560</td>\n",
       "      <td>77.706880</td>\n",
       "      <td>0.000000</td>\n",
       "    </tr>\n",
       "    <tr>\n",
       "      <th>max</th>\n",
       "      <td>185941.000000</td>\n",
       "      <td>48730.000000</td>\n",
       "      <td>91.00000</td>\n",
       "      <td>7.000000</td>\n",
       "      <td>3.000000</td>\n",
       "      <td>1403.000000</td>\n",
       "      <td>1403.000000</td>\n",
       "      <td>31.000000</td>\n",
       "      <td>203.000000</td>\n",
       "      <td>1.000000</td>\n",
       "      <td>1.000000</td>\n",
       "      <td>13.366072</td>\n",
       "      <td>77.786420</td>\n",
       "      <td>13.366072</td>\n",
       "      <td>77.786420</td>\n",
       "      <td>1.000000</td>\n",
       "    </tr>\n",
       "  </tbody>\n",
       "</table>\n",
       "</div>"
      ],
      "text/plain": [
       "                  id       user_id  vehicle_model_id   package_id  \\\n",
       "count   43431.000000  43431.000000       43431.00000  7550.000000   \n",
       "mean   159206.473556  30739.198153          25.71723     2.030066   \n",
       "std     15442.386279  10996.476709          26.79825     1.461756   \n",
       "min    132512.000000     16.000000           1.00000     1.000000   \n",
       "25%    145778.000000  24614.000000          12.00000     1.000000   \n",
       "50%    159248.000000  31627.000000          12.00000     2.000000   \n",
       "75%    172578.500000  39167.000000          24.00000     2.000000   \n",
       "max    185941.000000  48730.000000          91.00000     7.000000   \n",
       "\n",
       "       travel_type_id  from_area_id    to_area_id  from_city_id   to_city_id  \\\n",
       "count    43431.000000  43343.000000  34293.000000  16345.000000  1588.000000   \n",
       "mean         2.137252    714.544494    669.490917     14.915081    68.537783   \n",
       "std          0.437712    419.883553    400.638225      1.165306    49.880732   \n",
       "min          1.000000      2.000000      2.000000      1.000000     4.000000   \n",
       "25%          2.000000    393.000000    393.000000     15.000000    32.000000   \n",
       "50%          2.000000    590.000000    541.000000     15.000000    49.000000   \n",
       "75%          2.000000   1089.000000   1054.000000     15.000000   108.000000   \n",
       "max          3.000000   1403.000000   1403.000000     31.000000   203.000000   \n",
       "\n",
       "       online_booking  mobile_site_booking      from_lat     from_long  \\\n",
       "count    43431.000000         43431.000000  43338.000000  43338.000000   \n",
       "mean         0.351592             0.043241     12.982461     77.636255   \n",
       "std          0.477473             0.203402      0.085933      0.059391   \n",
       "min          0.000000             0.000000     12.776630     77.386930   \n",
       "25%          0.000000             0.000000     12.926450     77.593661   \n",
       "50%          0.000000             0.000000     12.968887     77.635750   \n",
       "75%          1.000000             0.000000     13.007750     77.688900   \n",
       "max          1.000000             1.000000     13.366072     77.786420   \n",
       "\n",
       "             to_lat       to_long  Car_Cancellation  \n",
       "count  34293.000000  34293.000000      43431.000000  \n",
       "mean      13.026648     77.640595          0.072114  \n",
       "std        0.113487      0.064045          0.258680  \n",
       "min       12.776630     77.386930          0.000000  \n",
       "25%       12.951850     77.582030          0.000000  \n",
       "50%       12.982750     77.645030          0.000000  \n",
       "75%       13.199560     77.706880          0.000000  \n",
       "max       13.366072     77.786420          1.000000  "
      ]
     },
     "execution_count": 7,
     "metadata": {},
     "output_type": "execute_result"
    }
   ],
   "source": [
    "df.describe()"
   ]
  },
  {
   "cell_type": "code",
   "execution_count": 5,
   "metadata": {},
   "outputs": [
    {
     "data": {
      "text/plain": [
       "0         NaN\n",
       "1         NaN\n",
       "2         NaN\n",
       "3         NaN\n",
       "4         NaN\n",
       "5         NaN\n",
       "6        15.0\n",
       "7         NaN\n",
       "8         NaN\n",
       "9         NaN\n",
       "10        NaN\n",
       "11        NaN\n",
       "12        NaN\n",
       "13        NaN\n",
       "14        NaN\n",
       "15        NaN\n",
       "16        NaN\n",
       "17        NaN\n",
       "18        NaN\n",
       "19        NaN\n",
       "20        NaN\n",
       "21        NaN\n",
       "22        NaN\n",
       "23        NaN\n",
       "24       15.0\n",
       "25        NaN\n",
       "26        NaN\n",
       "27        NaN\n",
       "28        NaN\n",
       "29        NaN\n",
       "         ... \n",
       "43401    15.0\n",
       "43402    15.0\n",
       "43403    15.0\n",
       "43404    15.0\n",
       "43405    15.0\n",
       "43406    15.0\n",
       "43407    15.0\n",
       "43408    15.0\n",
       "43409    15.0\n",
       "43410    15.0\n",
       "43411    15.0\n",
       "43412    15.0\n",
       "43413    15.0\n",
       "43414    15.0\n",
       "43415    15.0\n",
       "43416    15.0\n",
       "43417    15.0\n",
       "43418    15.0\n",
       "43419    15.0\n",
       "43420    15.0\n",
       "43421    15.0\n",
       "43422    15.0\n",
       "43423    15.0\n",
       "43424    15.0\n",
       "43425    15.0\n",
       "43426    15.0\n",
       "43427    15.0\n",
       "43428    15.0\n",
       "43429    15.0\n",
       "43430    15.0\n",
       "Name: from_city_id, Length: 43431, dtype: float64"
      ]
     },
     "execution_count": 5,
     "metadata": {},
     "output_type": "execute_result"
    }
   ],
   "source": [
    "\n",
    "df['from_city_id']"
   ]
  },
  {
   "cell_type": "code",
   "execution_count": 8,
   "metadata": {},
   "outputs": [
    {
     "name": "stdout",
     "output_type": "stream",
     "text": [
      "[1878, 15270]\n"
     ]
    },
    {
     "data": {
      "image/png": "[encoded data removed]",
      "text/plain": [
       "<Figure size 432x288 with 1 Axes>"
      ]
     },
     "metadata": {
      "needs_background": "light"
     },
     "output_type": "display_data"
    }
   ],
   "source": [
    "#mobile_site_booking vs online_booking in Data Description\n",
    "fig, ax = plt.subplots()\n",
    "import os\n",
    "no =[sum(df['mobile_site_booking']),sum(df['online_booking'])]\n",
    "print(no)\n",
    "index = ['mobile_site_booking','online_booking']\n",
    "ax.set_xlabel('Data Description(columns )')\n",
    "ax.set_ylabel('No. of Booking(s)')\n",
    "\n",
    "for i, v in enumerate(no):\n",
    "    ax.text(i-.25, v/no[i]+100,no[i],fontsize=10)\n",
    "ax.set_title('mobile_site_booking vs online_booking in Data Description')\n",
    "\n",
    "ax.bar(index,no, )\n",
    "plt.savefig(os.path.join('mobile_site_booking_vs_online_booking.png'), dpi=300, format='png', bbox_inches='tight')\n"
   ]
  },
  {
   "cell_type": "code",
   "execution_count": 9,
   "metadata": {},
   "outputs": [
    {
     "ename": "SyntaxError",
     "evalue": "invalid syntax (<ipython-input-9-b3de6ed5bac3>, line 3)",
     "output_type": "error",
     "traceback": [
      "\u001b[0;36m  File \u001b[0;32m\"<ipython-input-9-b3de6ed5bac3>\"\u001b[0;36m, line \u001b[0;32m3\u001b[0m\n\u001b[0;31m    = plt.subplots()\u001b[0m\n\u001b[0m    ^\u001b[0m\n\u001b[0;31mSyntaxError\u001b[0m\u001b[0;31m:\u001b[0m invalid syntax\n"
     ]
    }
   ],
   "source": [
    "# Total No of ride in each citys_id\n",
    "fig, ax\n",
    "= plt.subplots()\n",
    "from_city_ids = {}\n",
    "ax.set_xlabel('city id')\n",
    "ax.set_ylabel('No. of Booking(s)')\n",
    "from_city_id_list = df['from_city_id']\n",
    "for x in from_city_id_list:\n",
    "    if str(x) in from_city_ids.keys():\n",
    "        from_city_ids.update({str(x): from_city_ids[str(x)]+1})\n",
    "    else:\n",
    "        from_city_ids.update({str(x): 1})\n",
    "from_city_ids_values = list(from_city_ids.values()) \n",
    "for i, v in enumerate(from_city_ids_values):\n",
    "    ax.text(i-.25, v/from_city_ids_values[i]+100, from_city_ids_values[i], fontsize=10)\n",
    "ax.set_title('Total No of ride in each citys_id')\n",
    "plt.bar(from_city_ids.keys(), from_city_ids.values(), )\n",
    "plt.savefig(os.path.join('Total No of ride in each citys_id.png'),\n",
    "            dpi=300, format='png', bbox_inches='tight')data:image/png;base64,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"
   ]
  },
  {
   "cell_type": "code",
   "execution_count": 10,
   "metadata": {},
   "outputs": [
    {
     "data": {
      "image/png": "[encoded data removed]",
      "text/plain": [
       "<Figure size 432x288 with 1 Axes>"
      ]
     },
     "metadata": {
      "needs_background": "light"
     },
     "output_type": "display_data"
    }
   ],
   "source": [
    "# Total No of ride cancellation in each citys_id\n",
    "from_city_ids_with_cancellation = {}\n",
    "cancellation_df = df[df['Car_Cancellation']==1.000000]\n",
    "\n",
    "for x in cancellation_df['from_city_id']:\n",
    "    if str(x) in from_city_ids_with_cancellation.keys():\n",
    "        from_city_ids_with_cancellation.update({str(x): from_city_ids_with_cancellation[str(x)]+1})\n",
    "    else:\n",
    "       from_city_ids_with_cancellation.update({str(x): 1})\n",
    "\n",
    "ax.set_xlabel('city id(s)')\n",
    "ax.set_ylabel('No. of Cancellation Booking(s)')\n",
    "ax.set_title('Total No of ride cancellation in each city_id(s)')\n",
    "from_city_ids_with_cancellation_values= list(from_city_ids_with_cancellation.values())\n",
    "for i, v in enumerate(from_city_ids_with_cancellation_values):\n",
    "    ax.text(i-.25, v/from_city_ids_with_cancellation_values[i]+100, from_city_ids_with_cancellation_values[i], fontsize=10)\n",
    "\n",
    "plt.bar(from_city_ids_with_cancellation.keys(), from_city_ids_with_cancellation.values() )\n",
    "plt.savefig(os.path.join('Total No of ride cancellation in each citys_id.png'),\n",
    "            dpi=300, format='png', bbox_inches='tight')           "
   ]
  },
  {
   "cell_type": "code",
   "execution_count": 122,
   "metadata": {},
   "outputs": [
    {
     "data": {
      "image/png": "[encoded data removed]",
      "text/plain": [
       "<Figure size 432x288 with 1 Axes>"
      ]
     },
     "metadata": {
      "needs_background": "light"
     },
     "output_type": "display_data"
    }
   ],
   "source": [
    "# Total No of ride cancellation in each day(monday to sunday)\n",
    "\n",
    "import datetime\n",
    "weekdays_cancelation ={}\n",
    "fig, ax = plt.subplots()\n",
    "from_date_cancelation = cancellation_df['from_date']\n",
    "for x in from_date_cancelation:\n",
    "    date = x.split()[0]\n",
    "    time = x.split()[1]\n",
    "    \n",
    "    year =  int(date.split('/')[2])\n",
    "    month = int(date.split('/')[0])\n",
    "    day = int(date.split('/')[1])\n",
    "    \n",
    "    weekday = datetime.datetime(year, month, day).weekday()\n",
    "    if str(weekday) in weekdays_cancelation.keys():\n",
    "        weekdays_cancelation[str(weekday)]= weekdays_cancelation[str(weekday)]+1\n",
    "    else:\n",
    "        \n",
    "        weekdays_cancelation.update({str(weekday):1})\n",
    "\n",
    "ax.set_xlabel('monday to sunday')\n",
    "ax.set_ylabel('No. of  Booking(s)')\n",
    "ax.set_title('Total No of ride cancellation in each day(monday to sunday)')\n",
    "\n",
    "from_city_ids_with_cancellation_values= list(weekdays_cancelation.values())\n",
    "for i, v in enumerate(from_city_ids_with_cancellation_values):\n",
    "    ax.text(i-.25, v/from_city_ids_with_cancellation_values[i]+100, from_city_ids_with_cancellation_values[i], fontsize=10)\n",
    "    \n",
    "plt.bar(weekdays_cancelation.keys(), weekdays_cancelation.values())\n",
    "plt.savefig(os.path.join('Total No of ride cancellation in each day(monday to sunday).png'),\n",
    "            dpi=300, format='png', bbox_inches='tight')           \n"
   ]
  },
  {
   "cell_type": "code",
   "execution_count": 132,
   "metadata": {},
   "outputs": [
    {
     "data": {
      "image/png": "[encoded data removed]",
      "text/plain": [
       "<Figure size 432x288 with 1 Axes>"
      ]
     },
     "metadata": {
      "needs_background": "light"
     },
     "output_type": "display_data"
    }
   ],
   "source": [
    "# Total No of ride cancellation in each month(jan to dec)\n",
    "months_cancelation ={}\n",
    "from_date_cancelation = cancellation_df['from_date']\n",
    "for x in from_date_cancelation:\n",
    "    date = x.split()[0]\n",
    "    time = x.split()[1]\n",
    "    \n",
    "    year =  int(date.split('/')[2])\n",
    "    month = int(date.split('/')[0])\n",
    "    day = int(date.split('/')[1])\n",
    "    \n",
    "    \n",
    "    if str(month) in months_cancelation.keys():\n",
    "        months_cancelation[str(month)]= months_cancelation[str(month)]+1\n",
    "    else:\n",
    "        \n",
    "        months_cancelation.update({str(month):1})\n",
    "    \n",
    "ax.set_xlabel('jan to dec')\n",
    "ax.set_ylabel('No. of Booking(s)')\n",
    "ax.set_title('Total No of ride cancellation in each month(jan to dec)')\n",
    "\n",
    "months_cancelation_values= list(months_cancelation.values())\n",
    "for i, v in enumerate(months_cancelation_values):\n",
    "    ax.text(i-.25, v/months_cancelation_values[i]+100, months_cancelation_values[i], fontsize=5)\n",
    "\n",
    "plt.bar(months_cancelation.keys(), months_cancelation.values() )\n",
    "plt.savefig(os.path.join('Total No of ride cancellation in each month(jan to dec).png'),\n",
    "            dpi=300, format='png', bbox_inches='tight')"
   ]
  },
  {
   "cell_type": "code",
   "execution_count": 130,
   "metadata": {},
   "outputs": [
    {
     "data": {
      "text/plain": [
       "<BarContainer object of 24 artists>"
      ]
     },
     "execution_count": 130,
     "metadata": {},
     "output_type": "execute_result"
    },
    {
     "data": {
      "image/png": "[encoded data removed]",
      "text/plain": [
       "<Figure size 432x288 with 1 Axes>"
      ]
     },
     "metadata": {
      "needs_background": "light"
     },
     "output_type": "display_data"
    }
   ],
   "source": [
    "hours ={}\n",
    "from_date_cancelation = by=cancellation_df['from_date'] \n",
    "for x in from_date_cancelation:\n",
    "    date = x.split()[0]\n",
    "    time = x.split()[1]\n",
    "    \n",
    "    \n",
    "    year =  int(date.split('/')[2])\n",
    "    month = int(date.split('/')[0])\n",
    "    day = int(date.split('/')[1])\n",
    "    hour = int(time.split(':')[0])\n",
    "    \n",
    "    minute = int(time.split(':')[1])\n",
    "    \n",
    "    if str(hour) in hours.keys():\n",
    "        hours[str(hour)]= hours[str(hour)]+1\n",
    "    else:\n",
    "        \n",
    "        hours.update({str(hour):1})\n",
    "    \n",
    "plt.grid()\n",
    "plt.bar(hours.keys(), hours.values())\n",
    "\n"
   ]
  },
  {
   "cell_type": "code",
   "execution_count": 1,
   "metadata": {},
   "outputs": [
    {
     "ename": "NameError",
     "evalue": "name 'df' is not defined",
     "output_type": "error",
     "traceback": [
      "\u001b[0;31m---------------------------------------------------------------------------\u001b[0m",
      "\u001b[0;31mNameError\u001b[0m                                 Traceback (most recent call last)",
      "\u001b[0;32m<ipython-input-1-e2dcda0948b6>\u001b[0m in \u001b[0;36m<module>\u001b[0;34m\u001b[0m\n\u001b[1;32m      1\u001b[0m \u001b[0;34m\u001b[0m\u001b[0m\n\u001b[1;32m      2\u001b[0m \u001b[0mtraffic_weekdays\u001b[0m \u001b[0;34m=\u001b[0m\u001b[0;34m{\u001b[0m\u001b[0;34m}\u001b[0m\u001b[0;34m\u001b[0m\u001b[0;34m\u001b[0m\u001b[0m\n\u001b[0;32m----> 3\u001b[0;31m \u001b[0mfrom_date\u001b[0m \u001b[0;34m=\u001b[0m \u001b[0mdf\u001b[0m\u001b[0;34m[\u001b[0m\u001b[0;34m'from_date'\u001b[0m\u001b[0;34m]\u001b[0m\u001b[0;34m\u001b[0m\u001b[0;34m\u001b[0m\u001b[0m\n\u001b[0m\u001b[1;32m      4\u001b[0m \u001b[0;32mfor\u001b[0m \u001b[0mx\u001b[0m \u001b[0;32min\u001b[0m \u001b[0mfrom_date\u001b[0m\u001b[0;34m:\u001b[0m\u001b[0;34m\u001b[0m\u001b[0;34m\u001b[0m\u001b[0m\n\u001b[1;32m      5\u001b[0m     \u001b[0mdate\u001b[0m \u001b[0;34m=\u001b[0m \u001b[0mx\u001b[0m\u001b[0;34m.\u001b[0m\u001b[0msplit\u001b[0m\u001b[0;34m(\u001b[0m\u001b[0;34m)\u001b[0m\u001b[0;34m[\u001b[0m\u001b[0;36m0\u001b[0m\u001b[0;34m]\u001b[0m\u001b[0;34m\u001b[0m\u001b[0;34m\u001b[0m\u001b[0m\n",
      "\u001b[0;31mNameError\u001b[0m: name 'df' is not defined"
     ]
    }
   ],
   "source": [
    "\n",
    "traffic_weekdays ={}\n",
    "from_date = df['from_date']\n",
    "for x in from_date:\n",
    "    date = x.split()[0]\n",
    "    time = x.split()[1]\n",
    "    \n",
    "    year =  int(date.split('/')[2])\n",
    "    month = int(date.split('/')[0])\n",
    "    day = int(date.split('/')[1])\n",
    "    \n",
    "    weekday = datetime.datetime(year, month, day).weekday()\n",
    "    if str(weekday) in traffic_weekdays.keys():\n",
    "        traffic_weekdays[str(weekday)]= traffic_weekdays[str(weekday)]+1\n",
    "    else:\n",
    "        \n",
    "        traffic_weekdays.update({str(weekday):1})\n",
    "    \n",
    "print(traffic_weekdays)\n",
    "# plt.bar(traffic_weekdays.keys(), traffic_weekdays.values() )\n",
    "plt.bar([1,2,3])"
   ]
  },
  {
   "cell_type": "code",
   "execution_count": 124,
   "metadata": {},
   "outputs": [
    {
     "data": {
      "text/plain": [
       "[<matplotlib.lines.Line2D at 0x7fa3846280f0>]"
      ]
     },
     "execution_count": 124,
     "metadata": {},
     "output_type": "execute_result"
    },
    {
     "data": {
      "image/png": "[encoded data removed]",
      "text/plain": [
       "<Figure size 432x288 with 1 Axes>"
      ]
     },
     "metadata": {
      "needs_background": "light"
     },
     "output_type": "display_data"
    }
   ],
   "source": []
  },
  {
   "cell_type": "code",
   "execution_count": 123,
   "metadata": {},
   "outputs": [
    {
     "ename": "NameError",
     "evalue": "name 'traffic_weekdays' is not defined",
     "output_type": "error",
     "traceback": [
      "\u001b[0;31m---------------------------------------------------------------------------\u001b[0m",
      "\u001b[0;31mNameError\u001b[0m                                 Traceback (most recent call last)",
      "\u001b[0;32m<ipython-input-123-5bd04c265222>\u001b[0m in \u001b[0;36m<module>\u001b[0;34m\u001b[0m\n\u001b[0;32m----> 1\u001b[0;31m \u001b[0mplt\u001b[0m\u001b[0;34m.\u001b[0m\u001b[0mpie\u001b[0m\u001b[0;34m(\u001b[0m\u001b[0mtraffic_weekdays\u001b[0m\u001b[0;34m.\u001b[0m\u001b[0mvalues\u001b[0m\u001b[0;34m(\u001b[0m\u001b[0;34m)\u001b[0m\u001b[0;34m)\u001b[0m\u001b[0;34m\u001b[0m\u001b[0;34m\u001b[0m\u001b[0m\n\u001b[0m",
      "\u001b[0;31mNameError\u001b[0m: name 'traffic_weekdays' is not defined"
     ]
    }
   ],
   "source": [
    "plt.pie(traffic_weekdays.values())"
   ]
  }
 ],
 "metadata": {
  "kernelspec": {
   "display_name": "Python 3",
   "language": "python",
   "name": "python3"
  },
  "language_info": {
   "codemirror_mode": {
    "name": "ipython",
    "version": 3
   },
   "file_extension": ".py",
   "mimetype": "text/x-python",
   "name": "python",
   "nbconvert_exporter": "python",
   "pygments_lexer": "ipython3",
   "version": "3.6.7"
  }
 },
 "nbformat": 4,
 "nbformat_minor": 2
}
